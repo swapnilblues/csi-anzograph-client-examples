{
 "cells": [
  {
   "cell_type": "code",
   "execution_count": 1,
   "metadata": {},
   "outputs": [],
   "source": [
    "import anzoGraphClient as azg"
   ]
  },
  {
   "cell_type": "code",
   "execution_count": 2,
   "metadata": {},
   "outputs": [
    {
     "data": {
      "text/plain": [
       "['<https://ontologies.semanticarts.com/flights/Country>',\n",
       " '<https://ontologies.semanticarts.com/raw_data#Carrier>',\n",
       " '<https://ontologies.semanticarts.com/flights/City>',\n",
       " '<https://ontologies.semanticarts.com/flights/Airport>',\n",
       " '<https://ontologies.semanticarts.com/flights/ForeignCountry>',\n",
       " '<https://ontologies.semanticarts.com/flights/DomesticCountry>',\n",
       " '<https://ontologies.semanticarts.com/flights/Flight>']"
      ]
     },
     "execution_count": 2,
     "metadata": {},
     "output_type": "execute_result"
    }
   ],
   "source": [
    "graphName = '<airline_flight_network>'\n",
    "azg.getTypesOfNodes(graphName)\n",
    "azg.nodeTypes"
   ]
  },
  {
   "cell_type": "code",
   "execution_count": 3,
   "metadata": {},
   "outputs": [
    {
     "data": {
      "text/plain": [
       "True"
      ]
     },
     "execution_count": 3,
     "metadata": {},
     "output_type": "execute_result"
    }
   ],
   "source": [
    "# assign color to different node types\n",
    "colors = ['#58FAF4','#d1fa58','#fada58','#fa589c','#dc58fa','#6358fa','#f7fa58']\n",
    "colorCode = {\n",
    "    '<https://ontologies.semanticarts.com/flights/Country>': '#fa589c',\n",
    "    '<https://ontologies.semanticarts.com/raw_data#Carrier>': '#d1fa58',\n",
    "    '<https://ontologies.semanticarts.com/flights/City>': '#fada58',\n",
    "    '<https://ontologies.semanticarts.com/flights/Airport>': '#58FAF4',\n",
    "    '<https://ontologies.semanticarts.com/flights/ForeignCountry>': '#dc58fa',\n",
    "    '<https://ontologies.semanticarts.com/flights/DomesticCountry>': '#6358fa',\n",
    "    '<https://ontologies.semanticarts.com/flights/Flight>': '#f7fa58'\n",
    "}\n",
    "azg.assignColorsToNode(colorCode)  "
   ]
  },
  {
   "cell_type": "code",
   "execution_count": 4,
   "metadata": {},
   "outputs": [],
   "source": [
    "graphName = '<airline_flight_network>'\n",
    "\n",
    "# Demo: construct creation function for airlines data\n",
    "def createConstructQuery(origin,graphName):\n",
    "    return '''PREFIX rdfs: <http://www.w3.org/2000/01/rdf-schema#>\n",
    "prefix : <https://ontologies.semanticarts.com/raw_data#>\n",
    "prefix fl: <https://ontologies.semanticarts.com/flights/>\n",
    "prefix owl: <http://www.w3.org/2002/07/owl#>\n",
    "prefix skos: <http://www.w3.org/2004/02/skos/core#>\n",
    "CONSTRUCT { \n",
    "  \t?orig fl:hasRouteTo ?dest .\n",
    "  \t?orig rdfs:label ?origCode . \n",
    "  \t?dest rdfs:label ?destCode . \n",
    "  \tfl:hasRouteTo rdfs:label \"hasRouteTo\" . \n",
    "}  \n",
    "WHERE { GRAPH '''+ graphName +''' {{\n",
    "SELECT \n",
    "?orig ?dest ?origCode ?destCode ?miles \n",
    "    WHERE { \n",
    "        ?orig fl:terminalCode ?origCode .\n",
    "        ?orig fl:hasRouteTo ?dest .\n",
    "        ?dest fl:terminalCode ?destCode .\n",
    "        << ?orig fl:hasRouteTo ?dest >> fl:distanceMiles ?miles .\n",
    "        FILTER (?miles < 400)\n",
    "        FILTER (?origCode = \\'''' + origin + '''\\')\n",
    "  }\n",
    "      }}}\n",
    "'''\n",
    "\n",
    "\n",
    "construct = createConstructQuery('BOS',graphName)\n",
    "elements = azg.createGraph(construct,'BOS', graphName)"
   ]
  },
  {
   "cell_type": "code",
   "execution_count": 5,
   "metadata": {},
   "outputs": [],
   "source": [
    "# show node label inside or outside of node\n",
    "putLabelInsideNode = True\n",
    "\n",
    "# change node size\n",
    "nodeWidth = '40%'\n",
    "nodeHeight = '40%'"
   ]
  },
  {
   "cell_type": "code",
   "execution_count": 6,
   "metadata": {
    "scrolled": false
   },
   "outputs": [
    {
     "data": {
      "text/html": [
       "\n",
       "        <iframe\n",
       "            width=\"100%\"\n",
       "            height=\"650\"\n",
       "            src=\"http://localhost:8198/\"\n",
       "            frameborder=\"0\"\n",
       "            allowfullscreen\n",
       "        ></iframe>\n",
       "        "
      ],
      "text/plain": [
       "<IPython.lib.display.IFrame at 0x11615c4c0>"
      ]
     },
     "metadata": {},
     "output_type": "display_data"
    },
    {
     "name": "stdout",
     "output_type": "stream",
     "text": [
      "App running on http://localhost:8198/\n"
     ]
    }
   ],
   "source": [
    "\n",
    "from jupyter_dash import JupyterDash\n",
    "from dash.dependencies import Input, Output, State\n",
    "\n",
    "app = JupyterDash(__name__)\n",
    "\n",
    "app.layout = azg.getAppLayout(elements, nodeWidth, nodeHeight, putLabelInsideNode)\n",
    "\n",
    "\n",
    "##########CALLBACKS##########\n",
    "\n",
    "# @app.callback(Output('cytoscape-update-layout', 'elements'),\n",
    "#               [Input('remove-button', 'n_clicks')],\n",
    "#               [State('cytoscape-update-layout', 'elements'),\n",
    "#                State('cytoscape-update-layout', 'tapNodeData')])\n",
    "# def check1(x, elements, data):\n",
    "#     print(\"Here\")\n",
    "#     return elements\n",
    "\n",
    "@app.callback(Output('selected-node-data-json-output', 'children'),\n",
    "              [Input('cytoscape-update-layout', 'tapNodeData')])\n",
    "def displayTapNodeData(data):\n",
    "    return azg.displayTapNodeData(data,graphName)\n",
    "\n",
    "\n",
    "@app.callback(Output('cytoscape-tapEdgeData-output', 'children'),\n",
    "              [Input('cytoscape-update-layout', 'tapEdgeData')]\n",
    "             )\n",
    "def displayTapEdgeData(data):\n",
    "    return azg.displayTapEdgeData(data)\n",
    "    \n",
    "@app.callback(Output('cytoscape-update-layout', 'layout'),\n",
    "              [Input('dropdown-update-layout', 'value')])\n",
    "def update_layout(layout):\n",
    "    return azg.update_layout(layout)\n",
    "\n",
    "@app.callback(Output('cytoscape-update-layout', 'elements'),\n",
    "              [Input('cytoscape-update-layout', 'tapNodeData')],\n",
    "              [State('cytoscape-update-layout', 'elements'),\n",
    "               State('radio-option', 'value')])\n",
    "def check(data, elements, option):\n",
    "    return azg.generate_elements(data,elements,option, graphName)\n",
    "    \n",
    "            \n",
    "port = '8198'\n",
    "host = 'localhost'\n",
    "\n",
    "app.run_server(mode='inline',port = port, host = host)\n",
    "\n",
    "print('App running on http://'+ host +':' + port +'/')"
   ]
  },
  {
   "cell_type": "code",
   "execution_count": 7,
   "metadata": {},
   "outputs": [
    {
     "data": {
      "text/html": [
       "<style>.container { width:100% !important; }</style>"
      ],
      "text/plain": [
       "<IPython.core.display.HTML object>"
      ]
     },
     "metadata": {},
     "output_type": "display_data"
    }
   ],
   "source": [
    "# expands jupyter notebook width\n",
    "from IPython.core.display import display, HTML\n",
    "display(HTML(\"<style>.container { width:100% !important; }</style>\"))"
   ]
  },
  {
   "cell_type": "code",
   "execution_count": null,
   "metadata": {},
   "outputs": [],
   "source": []
  }
 ],
 "metadata": {
  "kernelspec": {
   "display_name": "Python 3",
   "language": "python",
   "name": "python3"
  },
  "language_info": {
   "codemirror_mode": {
    "name": "ipython",
    "version": 3
   },
   "file_extension": ".py",
   "mimetype": "text/x-python",
   "name": "python",
   "nbconvert_exporter": "python",
   "pygments_lexer": "ipython3",
   "version": "3.8.5"
  }
 },
 "nbformat": 4,
 "nbformat_minor": 4
}
