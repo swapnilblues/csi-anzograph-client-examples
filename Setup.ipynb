{
 "cells": [
  {
   "cell_type": "code",
   "execution_count": 1,
   "metadata": {},
   "outputs": [
    {
     "name": "stdout",
     "output_type": "stream",
     "text": [
      "Requirement already satisfied: pandas in /usr/local/lib/python3.7/site-packages (1.1.5)\n",
      "Requirement already satisfied: dash-cytoscape in /usr/local/lib/python3.7/site-packages (0.2.0)\n",
      "Requirement already satisfied: pytz>=2017.2 in /usr/local/lib/python3.7/site-packages (from pandas) (2020.4)\n",
      "Requirement already satisfied: numpy>=1.15.4 in /usr/local/lib/python3.7/site-packages (from pandas) (1.18.5)\n",
      "Requirement already satisfied: python-dateutil>=2.7.3 in /usr/local/lib/python3.7/site-packages (from pandas) (2.8.1)\n",
      "Requirement already satisfied: dash in /usr/local/lib/python3.7/site-packages (from dash-cytoscape) (1.18.1)\n",
      "Requirement already satisfied: six>=1.5 in /usr/local/lib/python3.7/site-packages (from python-dateutil>=2.7.3->pandas) (1.15.0)\n",
      "Requirement already satisfied: dash-core-components==1.14.1 in /usr/local/lib/python3.7/site-packages (from dash->dash-cytoscape) (1.14.1)\n",
      "Requirement already satisfied: Flask>=1.0.4 in /usr/local/lib/python3.7/site-packages (from dash->dash-cytoscape) (1.1.2)\n",
      "Requirement already satisfied: dash-html-components==1.1.1 in /usr/local/lib/python3.7/site-packages (from dash->dash-cytoscape) (1.1.1)\n",
      "Requirement already satisfied: flask-compress in /usr/local/lib/python3.7/site-packages (from dash->dash-cytoscape) (1.8.0)\n",
      "Requirement already satisfied: dash-table==4.11.1 in /usr/local/lib/python3.7/site-packages (from dash->dash-cytoscape) (4.11.1)\n",
      "Requirement already satisfied: future in /usr/local/lib/python3.7/site-packages (from dash->dash-cytoscape) (0.18.2)\n",
      "Requirement already satisfied: dash-renderer==1.8.3 in /usr/local/lib/python3.7/site-packages (from dash->dash-cytoscape) (1.8.3)\n",
      "Requirement already satisfied: plotly in /usr/local/lib/python3.7/site-packages (from dash->dash-cytoscape) (4.14.1)\n",
      "Requirement already satisfied: Werkzeug>=0.15 in /usr/local/lib/python3.7/site-packages (from Flask>=1.0.4->dash->dash-cytoscape) (1.0.1)\n",
      "Requirement already satisfied: itsdangerous>=0.24 in /usr/local/lib/python3.7/site-packages (from Flask>=1.0.4->dash->dash-cytoscape) (1.1.0)\n",
      "Requirement already satisfied: click>=5.1 in /usr/local/lib/python3.7/site-packages (from Flask>=1.0.4->dash->dash-cytoscape) (7.1.2)\n",
      "Requirement already satisfied: Jinja2>=2.10.1 in /usr/local/lib/python3.7/site-packages (from Flask>=1.0.4->dash->dash-cytoscape) (2.11.2)\n",
      "Requirement already satisfied: brotli in /usr/local/lib/python3.7/site-packages (from flask-compress->dash->dash-cytoscape) (1.0.9)\n",
      "Requirement already satisfied: retrying>=1.3.3 in /usr/local/lib/python3.7/site-packages (from plotly->dash->dash-cytoscape) (1.3.3)\n",
      "Requirement already satisfied: MarkupSafe>=0.23 in /usr/local/lib/python3.7/site-packages (from Jinja2>=2.10.1->Flask>=1.0.4->dash->dash-cytoscape) (1.1.1)\n"
     ]
    }
   ],
   "source": [
    "import sys\n",
    "!{sys.executable} -m pip install pandas dash-cytoscape"
   ]
  },
  {
   "cell_type": "code",
   "execution_count": 2,
   "metadata": {},
   "outputs": [],
   "source": [
    "azg_server = 'localhost:7070'"
   ]
  },
  {
   "cell_type": "code",
   "execution_count": 3,
   "metadata": {},
   "outputs": [],
   "source": [
    "import anzoGraphClient as azg\n",
    "import pandas as pd"
   ]
  },
  {
   "cell_type": "code",
   "execution_count": 4,
   "metadata": {},
   "outputs": [],
   "source": [
    "load_from_http_csv_query='''drop silent graph <nyt_covid_counties> \n",
    ";;\n",
    "PREFIX s:    <http://cambridgesemantics.com/ontologies/DataToolkit#>\n",
    "PREFIX xsd:  <http://www.w3.org/2001/XMLSchema#>\n",
    "PREFIX :     <http://anzograph.com/default#>\n",
    "\n",
    "INSERT { GRAPH <nyt_covid_counties> { \n",
    "   ?covidStatIRI a :covidCountyStat ;\n",
    "        :date  ?date ;\n",
    "        :county  ?county ;\n",
    "        :state  ?state ;\n",
    "        :fips  ?fips ;\n",
    "        :cases  ?cases ;\n",
    "        :deaths  ?deaths ;\n",
    "        :confirmedCases ?confirmed_cases  ;\n",
    "        :confirmedDeaths ?confirmed_deaths;\n",
    "        :probableCases ?probable_cases;\n",
    "        :probableDeaths ?probable_deaths .\n",
    " }\n",
    "}\n",
    "WHERE\n",
    "{\n",
    "   SERVICE <http://cambridgesemantics.com/services/DataToolkit>\n",
    "   {\n",
    "        ?data a s:HttpSource ;\n",
    "            s:url \"https://raw.githubusercontent.com/nytimes/covid-19-data/master/us-counties.csv\" ;\n",
    "            ?date xsd:date;\n",
    "            ?county xsd:string;\n",
    "            ?state xsd:string;\n",
    "            ?fips xsd:string;\n",
    "            ?cases xsd:integer;\n",
    "            ?deaths xsd:integer;\n",
    "            ?confirmed_cases xsd:integer;\n",
    "            ?confirmed_deaths xsd:integer;\n",
    "            ?probable_cases\txsd:integer;\n",
    "            ?probable_deaths xsd:integer;    \n",
    "            .\n",
    "       BIND(IRI(\"http://anzograph.com/data/covid/county/{{?fips}}/{{?state}}/{{?date}}\") as ?covidStatIRI)\n",
    "         }\n",
    "}'''"
   ]
  },
  {
   "cell_type": "code",
   "execution_count": 5,
   "metadata": {},
   "outputs": [
    {
     "data": {
      "text/plain": [
       "b''"
      ]
     },
     "execution_count": 5,
     "metadata": {},
     "output_type": "execute_result"
    }
   ],
   "source": [
    "azg.run_query(azg_server, load_from_http_csv_query)"
   ]
  },
  {
   "cell_type": "code",
   "execution_count": 6,
   "metadata": {},
   "outputs": [],
   "source": [
    "# this query will count the number of counties we loaded \n",
    "count_stats_query='''PREFIX : <http://anzograph.com/default#>\n",
    "select (count(*) as ?cnt) from <nyt_covid_counties> where {?s a :covidCountyStat}'''"
   ]
  },
  {
   "cell_type": "code",
   "execution_count": 7,
   "metadata": {},
   "outputs": [
    {
     "name": "stdout",
     "output_type": "stream",
     "text": [
      "The history saving thread hit an unexpected error (OperationalError('database or disk is full')).History will not be written to the database.\n"
     ]
    }
   ],
   "source": [
    "count_df = azg.create_dataframe(azg_server,count_stats_query)"
   ]
  },
  {
   "cell_type": "code",
   "execution_count": 8,
   "metadata": {},
   "outputs": [
    {
     "data": {
      "text/html": [
       "<div>\n",
       "<style scoped>\n",
       "    .dataframe tbody tr th:only-of-type {\n",
       "        vertical-align: middle;\n",
       "    }\n",
       "\n",
       "    .dataframe tbody tr th {\n",
       "        vertical-align: top;\n",
       "    }\n",
       "\n",
       "    .dataframe thead th {\n",
       "        text-align: right;\n",
       "    }\n",
       "</style>\n",
       "<table border=\"1\" class=\"dataframe\">\n",
       "  <thead>\n",
       "    <tr style=\"text-align: right;\">\n",
       "      <th></th>\n",
       "      <th>cnt</th>\n",
       "    </tr>\n",
       "  </thead>\n",
       "  <tbody>\n",
       "    <tr>\n",
       "      <th>0</th>\n",
       "      <td>829428</td>\n",
       "    </tr>\n",
       "  </tbody>\n",
       "</table>\n",
       "</div>"
      ],
      "text/plain": [
       "      cnt\n",
       "0  829428"
      ]
     },
     "execution_count": 8,
     "metadata": {},
     "output_type": "execute_result"
    }
   ],
   "source": [
    "count_df"
   ]
  },
  {
   "cell_type": "code",
   "execution_count": 9,
   "metadata": {},
   "outputs": [],
   "source": [
    "# uncomment these lines to download the us-counties file and see how many records exist to compare what was loaded. \n",
    "#!wget https://raw.githubusercontent.com/nytimes/covid-19-data/master/us-counties.csv\n",
    "#!wc -l us-counties.csv"
   ]
  },
  {
   "cell_type": "code",
   "execution_count": 10,
   "metadata": {},
   "outputs": [],
   "source": [
    "# the above number should match the count_df output above"
   ]
  },
  {
   "cell_type": "code",
   "execution_count": 11,
   "metadata": {},
   "outputs": [],
   "source": [
    "# clean up \n",
    "#!rm us-counties.csv"
   ]
  },
  {
   "cell_type": "code",
   "execution_count": 12,
   "metadata": {},
   "outputs": [],
   "source": [
    "load_from_api_query='''PREFIX s:\t\t<http://cambridgesemantics.com/ontologies/DataToolkit#>\n",
    "PREFIX xsd: <http://www.w3.org/2001/XMLSchema#>\n",
    "PREFIX :     <http://anzograph.com/default#>\n",
    "\n",
    "INSERT{\n",
    "    GRAPH <covid>{\n",
    "        ?covidtrackerURI a :State_Data ;\n",
    "            :Current_Hospitalized ?Current_Hospitalized ;\n",
    "            :Date ?Date ;\n",
    "            :State ?State ;\n",
    "            :Total_Deaths ?Total_Deaths ;\n",
    "            :Total_Hospitalized ?Total_Hospitalized ;\n",
    "            :Total_Negative ?Total_Negative ;\n",
    "            :Total_Positive ?Total_Positive ;\n",
    "            .\n",
    "    }\n",
    "}\n",
    "WHERE\n",
    "{\n",
    "  SERVICE TOPDOWN <http://cambridgesemantics.com/services/DataToolkit>\n",
    "    {\n",
    "      ?data a s:HttpSource ; #\n",
    "      s:url \"https://api.covidtracking.com/v1/states/daily.json\" ; \n",
    "      s:timeout 5000 ;\n",
    "      s:refresh 86400 ; # 1 day\n",
    "      \n",
    "      # Output variable bindings\n",
    "      ?Current_Hospitalized ( \"hospitalizedCurrently \" xsd:int ) ;\n",
    "      ?Date ( \"date\" xsd:date \"yyyyMMdd\") ;\n",
    "      ?State ( \"state\" xsd:string ) ;\n",
    "      ?Total_Deaths ( \"death\" xsd:int );\n",
    "      ?Total_Hospitalized ( \"hospitalizedCumulative\" xsd:int );\n",
    "      ?Total_Negative ( \"negative\" xsd:int );\n",
    "      ?Total_Positive ( \"positive\" xsd:int );\n",
    "      .\n",
    "    }\n",
    "   BIND(IRI(CONCAT(\"http://cambridgesemantics.com/covidproject/\", ENCODE_FOR_URI(?State), ENCODE_FOR_URI(STR(?Date)))) AS ?covidtrackerURI)\n",
    "}'''\n"
   ]
  },
  {
   "cell_type": "code",
   "execution_count": 13,
   "metadata": {},
   "outputs": [
    {
     "data": {
      "text/plain": [
       "b''"
      ]
     },
     "execution_count": 13,
     "metadata": {},
     "output_type": "execute_result"
    }
   ],
   "source": [
    "azg.run_query(azg_server, load_from_api_query)"
   ]
  },
  {
   "cell_type": "code",
   "execution_count": 14,
   "metadata": {},
   "outputs": [],
   "source": [
    "# this query will count the number of counties we loaded \n",
    "count_states_query='''PREFIX : <http://anzograph.com/default#>\n",
    "select (count(*) as ?cnt) from <covid> where {?s a :State_Data}'''"
   ]
  },
  {
   "cell_type": "code",
   "execution_count": 15,
   "metadata": {},
   "outputs": [],
   "source": [
    "count_state_data_df = azg.create_dataframe(azg_server,count_states_query)"
   ]
  },
  {
   "cell_type": "code",
   "execution_count": 16,
   "metadata": {},
   "outputs": [
    {
     "data": {
      "text/html": [
       "<div>\n",
       "<style scoped>\n",
       "    .dataframe tbody tr th:only-of-type {\n",
       "        vertical-align: middle;\n",
       "    }\n",
       "\n",
       "    .dataframe tbody tr th {\n",
       "        vertical-align: top;\n",
       "    }\n",
       "\n",
       "    .dataframe thead th {\n",
       "        text-align: right;\n",
       "    }\n",
       "</style>\n",
       "<table border=\"1\" class=\"dataframe\">\n",
       "  <thead>\n",
       "    <tr style=\"text-align: right;\">\n",
       "      <th></th>\n",
       "      <th>cnt</th>\n",
       "    </tr>\n",
       "  </thead>\n",
       "  <tbody>\n",
       "    <tr>\n",
       "      <th>0</th>\n",
       "      <td>16138</td>\n",
       "    </tr>\n",
       "  </tbody>\n",
       "</table>\n",
       "</div>"
      ],
      "text/plain": [
       "     cnt\n",
       "0  16138"
      ]
     },
     "execution_count": 16,
     "metadata": {},
     "output_type": "execute_result"
    }
   ],
   "source": [
    "count_state_data_df"
   ]
  },
  {
   "cell_type": "code",
   "execution_count": null,
   "metadata": {},
   "outputs": [],
   "source": []
  }
 ],
 "metadata": {
  "kernelspec": {
   "display_name": "Python 3",
   "language": "python",
   "name": "python3"
  },
  "language_info": {
   "codemirror_mode": {
    "name": "ipython",
    "version": 3
   },
   "file_extension": ".py",
   "mimetype": "text/x-python",
   "name": "python",
   "nbconvert_exporter": "python",
   "pygments_lexer": "ipython3",
   "version": "3.7.7"
  }
 },
 "nbformat": 4,
 "nbformat_minor": 4
}
